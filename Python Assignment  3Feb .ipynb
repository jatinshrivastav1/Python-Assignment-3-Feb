{
 "cells": [
  {
   "cell_type": "markdown",
   "id": "79a6b534",
   "metadata": {},
   "source": [
    "# Assignment Solutions"
   ]
  },
  {
   "cell_type": "markdown",
   "id": "45698f5e",
   "metadata": {},
   "source": [
    "## Q1. Which keyword is used to create a function? Create a function to return a list of odd numbers in the range of 1 to 25."
   ]
  },
  {
   "cell_type": "code",
   "execution_count": null,
   "id": "336395d6",
   "metadata": {},
   "outputs": [],
   "source": [
    "# The 'def' keyword is used to create a function in Python\n",
    "\n",
    "def odd_numbers():\n",
    "    return [i for i in range(1, 26) if i % 2 != 0]\n",
    "\n",
    "print(odd_numbers())\n"
   ]
  },
  {
   "cell_type": "markdown",
   "id": "232b6cd6",
   "metadata": {},
   "source": [
    "## Q2. Why *args and **kwargs is used in some functions? Create a function each for *args and **kwargs to demonstrate their use."
   ]
  },
  {
   "cell_type": "code",
   "execution_count": null,
   "id": "4aae3681",
   "metadata": {},
   "outputs": [],
   "source": [
    "# *args is used to pass a variable number of non-keyword arguments to a function\n",
    "def args_function(*args):\n",
    "    for arg in args:\n",
    "        print(arg)\n",
    "\n",
    "args_function(1, 2, 3, 4, 5)\n",
    "\n",
    "# **kwargs is used to pass a variable number of keyword arguments to a function\n",
    "def kwargs_function(**kwargs):\n",
    "    for key, value in kwargs.items():\n",
    "        print(f\"{key}: {value}\")\n",
    "\n",
    "kwargs_function(a=1, b=2, c=3, d=4, e=5)\n"
   ]
  },
  {
   "cell_type": "markdown",
   "id": "d35d7dd6",
   "metadata": {},
   "source": [
    "## Q3. What is an iterator in python? Name the method used to initialise the iterator object and the method used for iteration. Use these methods to print the first five elements of the given list [2, 4, 6, 8, 10, 12, 14, 16, 18, 20]."
   ]
  },
  {
   "cell_type": "code",
   "execution_count": null,
   "id": "de95af76",
   "metadata": {},
   "outputs": [],
   "source": [
    "# An iterator in Python is an object that can be iterated (looped) upon. It implements two methods: __iter__() and __next__()\n",
    "\n",
    "my_list = [2, 4, 6, 8, 10, 12, 14, 16, 18, 20]\n",
    "my_iterator = iter(my_list)\n",
    "\n",
    "for _ in range(5):\n",
    "    print(next(my_iterator))\n"
   ]
  },
  {
   "cell_type": "markdown",
   "id": "5889ec4f",
   "metadata": {},
   "source": [
    "## Q4. What is a generator function in python? Why yield keyword is used? Give an example of a generator function."
   ]
  },
  {
   "cell_type": "code",
   "execution_count": null,
   "id": "ef91988a",
   "metadata": {},
   "outputs": [],
   "source": [
    "# A generator function in Python is a function that returns an iterator that produces a sequence of values when iterated over. \n",
    "# The 'yield' keyword is used to produce a value and suspend the function’s execution, instead of returning a value and terminating the function.\n",
    "\n",
    "def simple_generator():\n",
    "    yield 1\n",
    "    yield 2\n",
    "    yield 3\n",
    "\n",
    "for value in simple_generator():\n",
    "    print(value)\n"
   ]
  },
  {
   "cell_type": "markdown",
   "id": "a86828fb",
   "metadata": {},
   "source": [
    "## Q5. Create a generator function for prime numbers less than 1000. Use the next() method to print the first 20 prime numbers."
   ]
  },
  {
   "cell_type": "code",
   "execution_count": null,
   "id": "03af1256",
   "metadata": {},
   "outputs": [],
   "source": [
    "def is_prime(num):\n",
    "    if num < 2:\n",
    "        return False\n",
    "    for i in range(2, int(num**0.5) + 1):\n",
    "        if num % i == 0:\n",
    "            return False\n",
    "    return True\n",
    "\n",
    "def prime_generator():\n",
    "    num = 2\n",
    "    while num < 1000:\n",
    "        if is_prime(num):\n",
    "            yield num\n",
    "        num += 1\n",
    "\n",
    "prime_gen = prime_generator()\n",
    "for _ in range(20):\n",
    "    print(next(prime_gen))\n"
   ]
  },
  {
   "cell_type": "markdown",
   "id": "8dc8accd",
   "metadata": {},
   "source": [
    "## Q6. Write a python program to print the first 10 Fibonacci numbers using a while loop."
   ]
  },
  {
   "cell_type": "code",
   "execution_count": null,
   "id": "d895607f",
   "metadata": {},
   "outputs": [],
   "source": [
    "a, b = 0, 1\n",
    "count = 0\n",
    "\n",
    "while count < 10:\n",
    "    print(a)\n",
    "    a, b = b, a + b\n",
    "    count += 1\n"
   ]
  },
  {
   "cell_type": "markdown",
   "id": "9f8c4c22",
   "metadata": {},
   "source": [
    "## Q7. Write a List Comprehension to iterate through the given string: ‘pwskills’. Expected output: ['p', 'w', 's', 'k', 'i', 'l', 'l', 's']"
   ]
  },
  {
   "cell_type": "code",
   "execution_count": null,
   "id": "c813fe2f",
   "metadata": {},
   "outputs": [],
   "source": [
    "string = 'pwskills'\n",
    "output = [char for char in string if char in 'pskills']\n",
    "print(output)\n"
   ]
  },
  {
   "cell_type": "markdown",
   "id": "d33b0849",
   "metadata": {},
   "source": [
    "## Q8. Write a python program to check whether a given number is Palindrome or not using a while loop."
   ]
  },
  {
   "cell_type": "code",
   "execution_count": null,
   "id": "4b6f3f90",
   "metadata": {},
   "outputs": [],
   "source": [
    "def is_palindrome(number):\n",
    "    original_number = number\n",
    "    reversed_number = 0\n",
    "    while number > 0:\n",
    "        digit = number % 10\n",
    "        reversed_number = reversed_number * 10 + digit\n",
    "        number = number // 10\n",
    "    return original_number == reversed_number\n",
    "\n",
    "# Example usage\n",
    "number = 121\n",
    "print(f\"Is {number} a palindrome? {is_palindrome(number)}\")\n"
   ]
  },
  {
   "cell_type": "markdown",
   "id": "d61ab440",
   "metadata": {},
   "source": [
    "## Q9. Write a code to print odd numbers from 1 to 100 using list comprehension."
   ]
  },
  {
   "cell_type": "code",
   "execution_count": null,
   "id": "5437c66e",
   "metadata": {},
   "outputs": [],
   "source": [
    "# Create a list from 1 to 100\n",
    "numbers = [i for i in range(1, 101)]\n",
    "\n",
    "# Filter out odd numbers\n",
    "odd_numbers = [num for num in numbers if num % 2 != 0]\n",
    "print(odd_numbers)\n"
   ]
  }
 ],
 "metadata": {},
 "nbformat": 4,
 "nbformat_minor": 5
}
